{
 "cells": [
  {
   "cell_type": "code",
   "execution_count": 1,
   "id": "425a9aa6",
   "metadata": {},
   "outputs": [],
   "source": [
    "# Import the random module.\n",
    "import random"
   ]
  },
  {
   "cell_type": "code",
   "execution_count": 4,
   "id": "98432cb2",
   "metadata": {},
   "outputs": [],
   "source": [
    "x = 1\n",
    "latitudes = []\n",
    "while x < 11:\n",
    "    random_lat = random.randint(-90, 89) + random.random()\n",
    "    latitudes.append(random_lat)\n",
    "    x += 1"
   ]
  },
  {
   "cell_type": "code",
   "execution_count": 5,
   "id": "ecb23d6a",
   "metadata": {},
   "outputs": [],
   "source": [
    "# Import the NumPy module.\n",
    "import numpy as np"
   ]
  },
  {
   "cell_type": "code",
   "execution_count": 7,
   "id": "14483cb8",
   "metadata": {},
   "outputs": [
    {
     "data": {
      "text/plain": [
       "array([ 39.18241959,  37.89836409,  29.21577735,  76.80348631,\n",
       "       -69.11627999, -18.19036026, -70.40632963,  81.16594873,\n",
       "       -46.87582368,  77.39591684,  25.26401379, -61.51539659,\n",
       "       -12.75665005,  32.98398206,  39.10785746, -11.26815754,\n",
       "        45.3782926 , -40.4385152 , -58.07250044,  10.24858887,\n",
       "        52.5466078 , -16.32260354,  -4.32598202, -29.28689563,\n",
       "       -30.10264522,  29.12920603, -85.64519344, -73.29344144,\n",
       "        -4.54366827,  31.94438795, -71.98591468, -83.74568106,\n",
       "       -88.80650049,  78.89684628,   7.69561255,  50.52226057,\n",
       "        24.72422563,  68.51755648,  61.96272067, -41.63714539,\n",
       "       -73.29975532, -50.64680904,  88.88250781, -78.19054336,\n",
       "        28.60685565,  48.31468435, -28.28346317,  13.73981252,\n",
       "       -75.81039649,  61.63038028])"
      ]
     },
     "execution_count": 7,
     "metadata": {},
     "output_type": "execute_result"
    }
   ],
   "source": [
    "np.random.uniform(-90.000, 90.000, size = 50)"
   ]
  },
  {
   "cell_type": "code",
   "execution_count": 8,
   "id": "71321e01",
   "metadata": {},
   "outputs": [],
   "source": [
    "# Import timeit.\n",
    "import timeit"
   ]
  },
  {
   "cell_type": "code",
   "execution_count": 9,
   "id": "2ea73c83",
   "metadata": {},
   "outputs": [
    {
     "name": "stdout",
     "output_type": "stream",
     "text": [
      "1.51 ms ± 50.5 µs per loop (mean ± std. dev. of 7 runs, 1000 loops each)\n"
     ]
    }
   ],
   "source": [
    "def latitudes(size):\n",
    "    latitudes = []\n",
    "    x = 0\n",
    "    while x < (size):\n",
    "        random_lat = random.randint(-90, 90) + random.random()\n",
    "        latitudes.append(random_lat)\n",
    "        x += 1\n",
    "    return latitudes\n",
    "# Call the function with 1500.\n",
    "%timeit latitudes(1500)"
   ]
  },
  {
   "cell_type": "code",
   "execution_count": null,
   "id": "b6fae28c",
   "metadata": {},
   "outputs": [],
   "source": []
  }
 ],
 "metadata": {
  "kernelspec": {
   "display_name": "PythonData",
   "language": "python",
   "name": "pythondata"
  },
  "language_info": {
   "codemirror_mode": {
    "name": "ipython",
    "version": 3
   },
   "file_extension": ".py",
   "mimetype": "text/x-python",
   "name": "python",
   "nbconvert_exporter": "python",
   "pygments_lexer": "ipython3",
   "version": "3.9.7"
  }
 },
 "nbformat": 4,
 "nbformat_minor": 5
}
